{
 "cells": [
  {
   "cell_type": "code",
   "execution_count": 1,
   "id": "e494d576",
   "metadata": {},
   "outputs": [],
   "source": [
    "# Importing our dependencies\n",
    "import pandas as pd\n",
    "import seaborn as sns\n",
    "import matplotlib.pyplot as plt\n",
    "import tensorflow as tf\n",
    "from sklearn.model_selection import train_test_split\n",
    "from sklearn.preprocessing import StandardScaler, OneHotEncoder"
   ]
  },
  {
   "cell_type": "code",
   "execution_count": 2,
   "id": "6a79abdc",
   "metadata": {},
   "outputs": [
    {
     "data": {
      "text/html": [
       "<div>\n",
       "<style scoped>\n",
       "    .dataframe tbody tr th:only-of-type {\n",
       "        vertical-align: middle;\n",
       "    }\n",
       "\n",
       "    .dataframe tbody tr th {\n",
       "        vertical-align: top;\n",
       "    }\n",
       "\n",
       "    .dataframe thead th {\n",
       "        text-align: right;\n",
       "    }\n",
       "</style>\n",
       "<table border=\"1\" class=\"dataframe\">\n",
       "  <thead>\n",
       "    <tr style=\"text-align: right;\">\n",
       "      <th></th>\n",
       "      <th>HeartDisease</th>\n",
       "      <th>BMI</th>\n",
       "      <th>Smoking</th>\n",
       "      <th>AlcoholDrinking</th>\n",
       "      <th>Stroke</th>\n",
       "      <th>PhysicalHealth</th>\n",
       "      <th>MentalHealth</th>\n",
       "      <th>DiffWalking</th>\n",
       "      <th>Sex</th>\n",
       "      <th>AgeCategory</th>\n",
       "      <th>Race</th>\n",
       "      <th>Diabetic</th>\n",
       "      <th>PhysicalActivity</th>\n",
       "      <th>GenHealth</th>\n",
       "      <th>SleepTime</th>\n",
       "      <th>Asthma</th>\n",
       "      <th>KidneyDisease</th>\n",
       "      <th>SkinCancer</th>\n",
       "    </tr>\n",
       "  </thead>\n",
       "  <tbody>\n",
       "    <tr>\n",
       "      <th>0</th>\n",
       "      <td>No</td>\n",
       "      <td>16.60</td>\n",
       "      <td>Yes</td>\n",
       "      <td>No</td>\n",
       "      <td>No</td>\n",
       "      <td>3.0</td>\n",
       "      <td>30.0</td>\n",
       "      <td>No</td>\n",
       "      <td>Female</td>\n",
       "      <td>55-59</td>\n",
       "      <td>White</td>\n",
       "      <td>Yes</td>\n",
       "      <td>Yes</td>\n",
       "      <td>Very good</td>\n",
       "      <td>5.0</td>\n",
       "      <td>Yes</td>\n",
       "      <td>No</td>\n",
       "      <td>Yes</td>\n",
       "    </tr>\n",
       "    <tr>\n",
       "      <th>1</th>\n",
       "      <td>No</td>\n",
       "      <td>20.34</td>\n",
       "      <td>No</td>\n",
       "      <td>No</td>\n",
       "      <td>Yes</td>\n",
       "      <td>0.0</td>\n",
       "      <td>0.0</td>\n",
       "      <td>No</td>\n",
       "      <td>Female</td>\n",
       "      <td>80 or older</td>\n",
       "      <td>White</td>\n",
       "      <td>No</td>\n",
       "      <td>Yes</td>\n",
       "      <td>Very good</td>\n",
       "      <td>7.0</td>\n",
       "      <td>No</td>\n",
       "      <td>No</td>\n",
       "      <td>No</td>\n",
       "    </tr>\n",
       "    <tr>\n",
       "      <th>2</th>\n",
       "      <td>No</td>\n",
       "      <td>26.58</td>\n",
       "      <td>Yes</td>\n",
       "      <td>No</td>\n",
       "      <td>No</td>\n",
       "      <td>20.0</td>\n",
       "      <td>30.0</td>\n",
       "      <td>No</td>\n",
       "      <td>Male</td>\n",
       "      <td>65-69</td>\n",
       "      <td>White</td>\n",
       "      <td>Yes</td>\n",
       "      <td>Yes</td>\n",
       "      <td>Fair</td>\n",
       "      <td>8.0</td>\n",
       "      <td>Yes</td>\n",
       "      <td>No</td>\n",
       "      <td>No</td>\n",
       "    </tr>\n",
       "    <tr>\n",
       "      <th>3</th>\n",
       "      <td>No</td>\n",
       "      <td>24.21</td>\n",
       "      <td>No</td>\n",
       "      <td>No</td>\n",
       "      <td>No</td>\n",
       "      <td>0.0</td>\n",
       "      <td>0.0</td>\n",
       "      <td>No</td>\n",
       "      <td>Female</td>\n",
       "      <td>75-79</td>\n",
       "      <td>White</td>\n",
       "      <td>No</td>\n",
       "      <td>No</td>\n",
       "      <td>Good</td>\n",
       "      <td>6.0</td>\n",
       "      <td>No</td>\n",
       "      <td>No</td>\n",
       "      <td>Yes</td>\n",
       "    </tr>\n",
       "    <tr>\n",
       "      <th>4</th>\n",
       "      <td>No</td>\n",
       "      <td>23.71</td>\n",
       "      <td>No</td>\n",
       "      <td>No</td>\n",
       "      <td>No</td>\n",
       "      <td>28.0</td>\n",
       "      <td>0.0</td>\n",
       "      <td>Yes</td>\n",
       "      <td>Female</td>\n",
       "      <td>40-44</td>\n",
       "      <td>White</td>\n",
       "      <td>No</td>\n",
       "      <td>Yes</td>\n",
       "      <td>Very good</td>\n",
       "      <td>8.0</td>\n",
       "      <td>No</td>\n",
       "      <td>No</td>\n",
       "      <td>No</td>\n",
       "    </tr>\n",
       "  </tbody>\n",
       "</table>\n",
       "</div>"
      ],
      "text/plain": [
       "  HeartDisease    BMI Smoking AlcoholDrinking Stroke  PhysicalHealth  \\\n",
       "0           No  16.60     Yes              No     No             3.0   \n",
       "1           No  20.34      No              No    Yes             0.0   \n",
       "2           No  26.58     Yes              No     No            20.0   \n",
       "3           No  24.21      No              No     No             0.0   \n",
       "4           No  23.71      No              No     No            28.0   \n",
       "\n",
       "   MentalHealth DiffWalking     Sex  AgeCategory   Race Diabetic  \\\n",
       "0          30.0          No  Female        55-59  White      Yes   \n",
       "1           0.0          No  Female  80 or older  White       No   \n",
       "2          30.0          No    Male        65-69  White      Yes   \n",
       "3           0.0          No  Female        75-79  White       No   \n",
       "4           0.0         Yes  Female        40-44  White       No   \n",
       "\n",
       "  PhysicalActivity  GenHealth  SleepTime Asthma KidneyDisease SkinCancer  \n",
       "0              Yes  Very good        5.0    Yes            No        Yes  \n",
       "1              Yes  Very good        7.0     No            No         No  \n",
       "2              Yes       Fair        8.0    Yes            No         No  \n",
       "3               No       Good        6.0     No            No        Yes  \n",
       "4              Yes  Very good        8.0     No            No         No  "
      ]
     },
     "execution_count": 2,
     "metadata": {},
     "output_type": "execute_result"
    }
   ],
   "source": [
    "# Importing our data\n",
    "path = 'Resources/heart_disease_data.csv'\n",
    "df = pd.read_csv(path)\n",
    "df.head()"
   ]
  },
  {
   "cell_type": "code",
   "execution_count": 3,
   "id": "53f90160",
   "metadata": {},
   "outputs": [
    {
     "data": {
      "text/plain": [
       "319795"
      ]
     },
     "execution_count": 3,
     "metadata": {},
     "output_type": "execute_result"
    }
   ],
   "source": [
    "len(df)"
   ]
  },
  {
   "cell_type": "code",
   "execution_count": 4,
   "id": "bee0edf8",
   "metadata": {},
   "outputs": [
    {
     "data": {
      "text/plain": [
       "No     292422\n",
       "Yes     27373\n",
       "Name: HeartDisease, dtype: int64"
      ]
     },
     "execution_count": 4,
     "metadata": {},
     "output_type": "execute_result"
    }
   ],
   "source": [
    "df['HeartDisease'].value_counts()"
   ]
  },
  {
   "cell_type": "code",
   "execution_count": 5,
   "id": "62893415",
   "metadata": {},
   "outputs": [
    {
     "data": {
      "text/plain": [
       "HeartDisease         object\n",
       "BMI                 float64\n",
       "Smoking              object\n",
       "AlcoholDrinking      object\n",
       "Stroke               object\n",
       "PhysicalHealth      float64\n",
       "MentalHealth        float64\n",
       "DiffWalking          object\n",
       "Sex                  object\n",
       "AgeCategory          object\n",
       "Race                 object\n",
       "Diabetic             object\n",
       "PhysicalActivity     object\n",
       "GenHealth            object\n",
       "SleepTime           float64\n",
       "Asthma               object\n",
       "KidneyDisease        object\n",
       "SkinCancer           object\n",
       "dtype: object"
      ]
     },
     "execution_count": 5,
     "metadata": {},
     "output_type": "execute_result"
    }
   ],
   "source": [
    "df.dtypes"
   ]
  },
  {
   "cell_type": "code",
   "execution_count": 6,
   "id": "bbf9179e",
   "metadata": {},
   "outputs": [
    {
     "name": "stdout",
     "output_type": "stream",
     "text": [
      "HeartDisease: 0 null values\n",
      "BMI: 0 null values\n",
      "Smoking: 0 null values\n",
      "AlcoholDrinking: 0 null values\n",
      "Stroke: 0 null values\n",
      "PhysicalHealth: 0 null values\n",
      "MentalHealth: 0 null values\n",
      "DiffWalking: 0 null values\n",
      "Sex: 0 null values\n",
      "AgeCategory: 0 null values\n",
      "Race: 0 null values\n",
      "Diabetic: 0 null values\n",
      "PhysicalActivity: 0 null values\n",
      "GenHealth: 0 null values\n",
      "SleepTime: 0 null values\n",
      "Asthma: 0 null values\n",
      "KidneyDisease: 0 null values\n",
      "SkinCancer: 0 null values\n"
     ]
    }
   ],
   "source": [
    "# Find null values\n",
    "for column in df.columns:\n",
    "    print(f'{column}: {df[column].isnull().sum()} null values')"
   ]
  },
  {
   "cell_type": "code",
   "execution_count": 7,
   "id": "cba61ed3",
   "metadata": {},
   "outputs": [
    {
     "name": "stdout",
     "output_type": "stream",
     "text": [
      "Duplicate entries: 18078\n"
     ]
    }
   ],
   "source": [
    "# Find duplicate entries\n",
    "print(f'Duplicate entries: {df.duplicated().sum()}')"
   ]
  },
  {
   "cell_type": "code",
   "execution_count": 8,
   "id": "23381aaa",
   "metadata": {},
   "outputs": [
    {
     "data": {
      "text/plain": [
       "HeartDisease           2\n",
       "BMI                 3604\n",
       "Smoking                2\n",
       "AlcoholDrinking        2\n",
       "Stroke                 2\n",
       "PhysicalHealth        31\n",
       "MentalHealth          31\n",
       "DiffWalking            2\n",
       "Sex                    2\n",
       "AgeCategory           13\n",
       "Race                   6\n",
       "Diabetic               4\n",
       "PhysicalActivity       2\n",
       "GenHealth              5\n",
       "SleepTime             24\n",
       "Asthma                 2\n",
       "KidneyDisease          2\n",
       "SkinCancer             2\n",
       "dtype: int64"
      ]
     },
     "execution_count": 8,
     "metadata": {},
     "output_type": "execute_result"
    }
   ],
   "source": [
    "# Find unique entries\n",
    "df.nunique()"
   ]
  },
  {
   "cell_type": "markdown",
   "id": "8feba828",
   "metadata": {},
   "source": [
    "### Fixing Diabetic column"
   ]
  },
  {
   "cell_type": "code",
   "execution_count": 9,
   "id": "2ed138d7",
   "metadata": {},
   "outputs": [
    {
     "data": {
      "text/plain": [
       "No                         269653\n",
       "Yes                         40802\n",
       "No, borderline diabetes      6781\n",
       "Yes (during pregnancy)       2559\n",
       "Name: Diabetic, dtype: int64"
      ]
     },
     "execution_count": 9,
     "metadata": {},
     "output_type": "execute_result"
    }
   ],
   "source": [
    "df['Diabetic'].value_counts()"
   ]
  },
  {
   "cell_type": "code",
   "execution_count": 10,
   "id": "cb98985d",
   "metadata": {},
   "outputs": [
    {
     "data": {
      "text/plain": [
       "0    276434\n",
       "1     43361\n",
       "Name: Diabetic, dtype: int64"
      ]
     },
     "execution_count": 10,
     "metadata": {},
     "output_type": "execute_result"
    }
   ],
   "source": [
    "x = {'No, borderline diabetes': 0, 'Yes (during pregnancy)': 1, 'No': 0, 'Yes': 1, 'Female': 0, 'Male': 1}   \n",
    "df = df.replace(x)\n",
    "df['Diabetic'].value_counts()"
   ]
  },
  {
   "cell_type": "code",
   "execution_count": 11,
   "id": "f008c2c5",
   "metadata": {},
   "outputs": [
    {
     "data": {
      "text/plain": [
       "HeartDisease          int64\n",
       "BMI                 float64\n",
       "Smoking               int64\n",
       "AlcoholDrinking       int64\n",
       "Stroke                int64\n",
       "PhysicalHealth      float64\n",
       "MentalHealth        float64\n",
       "DiffWalking           int64\n",
       "Sex                   int64\n",
       "AgeCategory          object\n",
       "Race                 object\n",
       "Diabetic              int64\n",
       "PhysicalActivity      int64\n",
       "GenHealth            object\n",
       "SleepTime           float64\n",
       "Asthma                int64\n",
       "KidneyDisease         int64\n",
       "SkinCancer            int64\n",
       "dtype: object"
      ]
     },
     "execution_count": 11,
     "metadata": {},
     "output_type": "execute_result"
    }
   ],
   "source": [
    "# Rechecking data types\n",
    "df.dtypes"
   ]
  },
  {
   "cell_type": "markdown",
   "id": "70a27dfb",
   "metadata": {},
   "source": [
    "### Looking at other categorical columns"
   ]
  },
  {
   "cell_type": "code",
   "execution_count": 12,
   "id": "da3eabe2",
   "metadata": {},
   "outputs": [
    {
     "data": {
      "text/plain": [
       "White                             245212\n",
       "Hispanic                           27446\n",
       "Black                              22939\n",
       "Other                              10928\n",
       "Asian                               8068\n",
       "American Indian/Alaskan Native      5202\n",
       "Name: Race, dtype: int64"
      ]
     },
     "execution_count": 12,
     "metadata": {},
     "output_type": "execute_result"
    }
   ],
   "source": [
    "df['Race'].value_counts()"
   ]
  },
  {
   "cell_type": "code",
   "execution_count": 13,
   "id": "9bd30e83",
   "metadata": {},
   "outputs": [
    {
     "data": {
      "text/plain": [
       "Very good    113858\n",
       "Good          93129\n",
       "Excellent     66842\n",
       "Fair          34677\n",
       "Poor          11289\n",
       "Name: GenHealth, dtype: int64"
      ]
     },
     "execution_count": 13,
     "metadata": {},
     "output_type": "execute_result"
    }
   ],
   "source": [
    "df['GenHealth'].value_counts()"
   ]
  },
  {
   "cell_type": "code",
   "execution_count": 14,
   "id": "92e37380",
   "metadata": {},
   "outputs": [
    {
     "data": {
      "text/plain": [
       "65-69          34151\n",
       "60-64          33686\n",
       "70-74          31065\n",
       "55-59          29757\n",
       "50-54          25382\n",
       "80 or older    24153\n",
       "45-49          21791\n",
       "75-79          21482\n",
       "18-24          21064\n",
       "40-44          21006\n",
       "35-39          20550\n",
       "30-34          18753\n",
       "25-29          16955\n",
       "Name: AgeCategory, dtype: int64"
      ]
     },
     "execution_count": 14,
     "metadata": {},
     "output_type": "execute_result"
    }
   ],
   "source": [
    "df['AgeCategory'].value_counts()"
   ]
  },
  {
   "cell_type": "markdown",
   "id": "0f9c50ca",
   "metadata": {},
   "source": [
    "## Correlation to find out best features"
   ]
  },
  {
   "cell_type": "code",
   "execution_count": 15,
   "id": "19d79324",
   "metadata": {},
   "outputs": [],
   "source": [
    "correlation = df.corr()"
   ]
  },
  {
   "cell_type": "code",
   "execution_count": 16,
   "id": "7f3a8e0b",
   "metadata": {},
   "outputs": [
    {
     "data": {
      "text/plain": [
       "HeartDisease        1.000000\n",
       "BMI                 0.051803\n",
       "Smoking             0.107764\n",
       "AlcoholDrinking    -0.032080\n",
       "Stroke              0.196835\n",
       "PhysicalHealth      0.170721\n",
       "MentalHealth        0.028591\n",
       "DiffWalking         0.201258\n",
       "Sex                 0.070040\n",
       "Diabetic            0.174782\n",
       "PhysicalActivity   -0.100030\n",
       "SleepTime           0.008327\n",
       "Asthma              0.041444\n",
       "KidneyDisease       0.145197\n",
       "SkinCancer          0.093317\n",
       "Name: HeartDisease, dtype: float64"
      ]
     },
     "execution_count": 16,
     "metadata": {},
     "output_type": "execute_result"
    }
   ],
   "source": [
    "correlation['HeartDisease']"
   ]
  },
  {
   "cell_type": "code",
   "execution_count": 17,
   "id": "3d002416",
   "metadata": {},
   "outputs": [
    {
     "data": {
      "image/png": "[encoded data removed]",
      "text/plain": [
       "<Figure size 1080x720 with 2 Axes>"
      ]
     },
     "metadata": {
      "needs_background": "light"
     },
     "output_type": "display_data"
    }
   ],
   "source": [
    "# Plotting the heatmap of correlation\n",
    "plt.figure(figsize = (15,10))\n",
    "heat_map = sns.heatmap(correlation, linewidth = 1 , annot = True)\n",
    "plt.title('Correlation Heatmap of Heart Disease data')\n",
    "plt.show()"
   ]
  },
  {
   "cell_type": "markdown",
   "id": "03bb2b8f",
   "metadata": {},
   "source": [
    "## Encoding categorical variables"
   ]
  },
  {
   "cell_type": "code",
   "execution_count": 18,
   "id": "630b5d50",
   "metadata": {},
   "outputs": [],
   "source": [
    "# Generate our categorical variable lists\n",
    "df_cat = df.dtypes[df.dtypes == \"object\"].index.tolist()"
   ]
  },
  {
   "cell_type": "code",
   "execution_count": 19,
   "id": "4aab7e43",
   "metadata": {},
   "outputs": [
    {
     "data": {
      "text/html": [
       "<div>\n",
       "<style scoped>\n",
       "    .dataframe tbody tr th:only-of-type {\n",
       "        vertical-align: middle;\n",
       "    }\n",
       "\n",
       "    .dataframe tbody tr th {\n",
       "        vertical-align: top;\n",
       "    }\n",
       "\n",
       "    .dataframe thead th {\n",
       "        text-align: right;\n",
       "    }\n",
       "</style>\n",
       "<table border=\"1\" class=\"dataframe\">\n",
       "  <thead>\n",
       "    <tr style=\"text-align: right;\">\n",
       "      <th></th>\n",
       "      <th>AgeCategory_18-24</th>\n",
       "      <th>AgeCategory_25-29</th>\n",
       "      <th>AgeCategory_30-34</th>\n",
       "      <th>AgeCategory_35-39</th>\n",
       "      <th>AgeCategory_40-44</th>\n",
       "      <th>AgeCategory_45-49</th>\n",
       "      <th>AgeCategory_50-54</th>\n",
       "      <th>AgeCategory_55-59</th>\n",
       "      <th>AgeCategory_60-64</th>\n",
       "      <th>AgeCategory_65-69</th>\n",
       "      <th>...</th>\n",
       "      <th>Race_Asian</th>\n",
       "      <th>Race_Black</th>\n",
       "      <th>Race_Hispanic</th>\n",
       "      <th>Race_Other</th>\n",
       "      <th>Race_White</th>\n",
       "      <th>GenHealth_Excellent</th>\n",
       "      <th>GenHealth_Fair</th>\n",
       "      <th>GenHealth_Good</th>\n",
       "      <th>GenHealth_Poor</th>\n",
       "      <th>GenHealth_Very good</th>\n",
       "    </tr>\n",
       "  </thead>\n",
       "  <tbody>\n",
       "    <tr>\n",
       "      <th>0</th>\n",
       "      <td>0.0</td>\n",
       "      <td>0.0</td>\n",
       "      <td>0.0</td>\n",
       "      <td>0.0</td>\n",
       "      <td>0.0</td>\n",
       "      <td>0.0</td>\n",
       "      <td>0.0</td>\n",
       "      <td>1.0</td>\n",
       "      <td>0.0</td>\n",
       "      <td>0.0</td>\n",
       "      <td>...</td>\n",
       "      <td>0.0</td>\n",
       "      <td>0.0</td>\n",
       "      <td>0.0</td>\n",
       "      <td>0.0</td>\n",
       "      <td>1.0</td>\n",
       "      <td>0.0</td>\n",
       "      <td>0.0</td>\n",
       "      <td>0.0</td>\n",
       "      <td>0.0</td>\n",
       "      <td>1.0</td>\n",
       "    </tr>\n",
       "    <tr>\n",
       "      <th>1</th>\n",
       "      <td>0.0</td>\n",
       "      <td>0.0</td>\n",
       "      <td>0.0</td>\n",
       "      <td>0.0</td>\n",
       "      <td>0.0</td>\n",
       "      <td>0.0</td>\n",
       "      <td>0.0</td>\n",
       "      <td>0.0</td>\n",
       "      <td>0.0</td>\n",
       "      <td>0.0</td>\n",
       "      <td>...</td>\n",
       "      <td>0.0</td>\n",
       "      <td>0.0</td>\n",
       "      <td>0.0</td>\n",
       "      <td>0.0</td>\n",
       "      <td>1.0</td>\n",
       "      <td>0.0</td>\n",
       "      <td>0.0</td>\n",
       "      <td>0.0</td>\n",
       "      <td>0.0</td>\n",
       "      <td>1.0</td>\n",
       "    </tr>\n",
       "    <tr>\n",
       "      <th>2</th>\n",
       "      <td>0.0</td>\n",
       "      <td>0.0</td>\n",
       "      <td>0.0</td>\n",
       "      <td>0.0</td>\n",
       "      <td>0.0</td>\n",
       "      <td>0.0</td>\n",
       "      <td>0.0</td>\n",
       "      <td>0.0</td>\n",
       "      <td>0.0</td>\n",
       "      <td>1.0</td>\n",
       "      <td>...</td>\n",
       "      <td>0.0</td>\n",
       "      <td>0.0</td>\n",
       "      <td>0.0</td>\n",
       "      <td>0.0</td>\n",
       "      <td>1.0</td>\n",
       "      <td>0.0</td>\n",
       "      <td>1.0</td>\n",
       "      <td>0.0</td>\n",
       "      <td>0.0</td>\n",
       "      <td>0.0</td>\n",
       "    </tr>\n",
       "    <tr>\n",
       "      <th>3</th>\n",
       "      <td>0.0</td>\n",
       "      <td>0.0</td>\n",
       "      <td>0.0</td>\n",
       "      <td>0.0</td>\n",
       "      <td>0.0</td>\n",
       "      <td>0.0</td>\n",
       "      <td>0.0</td>\n",
       "      <td>0.0</td>\n",
       "      <td>0.0</td>\n",
       "      <td>0.0</td>\n",
       "      <td>...</td>\n",
       "      <td>0.0</td>\n",
       "      <td>0.0</td>\n",
       "      <td>0.0</td>\n",
       "      <td>0.0</td>\n",
       "      <td>1.0</td>\n",
       "      <td>0.0</td>\n",
       "      <td>0.0</td>\n",
       "      <td>1.0</td>\n",
       "      <td>0.0</td>\n",
       "      <td>0.0</td>\n",
       "    </tr>\n",
       "    <tr>\n",
       "      <th>4</th>\n",
       "      <td>0.0</td>\n",
       "      <td>0.0</td>\n",
       "      <td>0.0</td>\n",
       "      <td>0.0</td>\n",
       "      <td>1.0</td>\n",
       "      <td>0.0</td>\n",
       "      <td>0.0</td>\n",
       "      <td>0.0</td>\n",
       "      <td>0.0</td>\n",
       "      <td>0.0</td>\n",
       "      <td>...</td>\n",
       "      <td>0.0</td>\n",
       "      <td>0.0</td>\n",
       "      <td>0.0</td>\n",
       "      <td>0.0</td>\n",
       "      <td>1.0</td>\n",
       "      <td>0.0</td>\n",
       "      <td>0.0</td>\n",
       "      <td>0.0</td>\n",
       "      <td>0.0</td>\n",
       "      <td>1.0</td>\n",
       "    </tr>\n",
       "  </tbody>\n",
       "</table>\n",
       "<p>5 rows × 24 columns</p>\n",
       "</div>"
      ],
      "text/plain": [
       "   AgeCategory_18-24  AgeCategory_25-29  AgeCategory_30-34  AgeCategory_35-39  \\\n",
       "0                0.0                0.0                0.0                0.0   \n",
       "1                0.0                0.0                0.0                0.0   \n",
       "2                0.0                0.0                0.0                0.0   \n",
       "3                0.0                0.0                0.0                0.0   \n",
       "4                0.0                0.0                0.0                0.0   \n",
       "\n",
       "   AgeCategory_40-44  AgeCategory_45-49  AgeCategory_50-54  AgeCategory_55-59  \\\n",
       "0                0.0                0.0                0.0                1.0   \n",
       "1                0.0                0.0                0.0                0.0   \n",
       "2                0.0                0.0                0.0                0.0   \n",
       "3                0.0                0.0                0.0                0.0   \n",
       "4                1.0                0.0                0.0                0.0   \n",
       "\n",
       "   AgeCategory_60-64  AgeCategory_65-69  ...  Race_Asian  Race_Black  \\\n",
       "0                0.0                0.0  ...         0.0         0.0   \n",
       "1                0.0                0.0  ...         0.0         0.0   \n",
       "2                0.0                1.0  ...         0.0         0.0   \n",
       "3                0.0                0.0  ...         0.0         0.0   \n",
       "4                0.0                0.0  ...         0.0         0.0   \n",
       "\n",
       "   Race_Hispanic  Race_Other  Race_White  GenHealth_Excellent  GenHealth_Fair  \\\n",
       "0            0.0         0.0         1.0                  0.0             0.0   \n",
       "1            0.0         0.0         1.0                  0.0             0.0   \n",
       "2            0.0         0.0         1.0                  0.0             1.0   \n",
       "3            0.0         0.0         1.0                  0.0             0.0   \n",
       "4            0.0         0.0         1.0                  0.0             0.0   \n",
       "\n",
       "   GenHealth_Good  GenHealth_Poor  GenHealth_Very good  \n",
       "0             0.0             0.0                  1.0  \n",
       "1             0.0             0.0                  1.0  \n",
       "2             0.0             0.0                  0.0  \n",
       "3             1.0             0.0                  0.0  \n",
       "4             0.0             0.0                  1.0  \n",
       "\n",
       "[5 rows x 24 columns]"
      ]
     },
     "execution_count": 19,
     "metadata": {},
     "output_type": "execute_result"
    }
   ],
   "source": [
    "# Create the OneHotEncoder instance\n",
    "enc = OneHotEncoder(sparse=False)\n",
    "\n",
    "# Fit the encoder and produce encoded DataFrame\n",
    "encode_df = pd.DataFrame(enc.fit_transform(df[df_cat]))\n",
    "\n",
    "# Rename encoded columns\n",
    "encode_df.columns = enc.get_feature_names_out(df_cat)\n",
    "encode_df.head()"
   ]
  },
  {
   "cell_type": "code",
   "execution_count": 20,
   "id": "7eb2c0de",
   "metadata": {},
   "outputs": [
    {
     "name": "stderr",
     "output_type": "stream",
     "text": [
      "C:\\Users\\Zarif\\anaconda3\\envs\\mlenv\\lib\\site-packages\\ipykernel_launcher.py:2: FutureWarning: In a future version of pandas all arguments of DataFrame.drop except for the argument 'labels' will be keyword-only\n",
      "  \n"
     ]
    },
    {
     "data": {
      "text/html": [
       "<div>\n",
       "<style scoped>\n",
       "    .dataframe tbody tr th:only-of-type {\n",
       "        vertical-align: middle;\n",
       "    }\n",
       "\n",
       "    .dataframe tbody tr th {\n",
       "        vertical-align: top;\n",
       "    }\n",
       "\n",
       "    .dataframe thead th {\n",
       "        text-align: right;\n",
       "    }\n",
       "</style>\n",
       "<table border=\"1\" class=\"dataframe\">\n",
       "  <thead>\n",
       "    <tr style=\"text-align: right;\">\n",
       "      <th></th>\n",
       "      <th>HeartDisease</th>\n",
       "      <th>BMI</th>\n",
       "      <th>Smoking</th>\n",
       "      <th>AlcoholDrinking</th>\n",
       "      <th>Stroke</th>\n",
       "      <th>PhysicalHealth</th>\n",
       "      <th>MentalHealth</th>\n",
       "      <th>DiffWalking</th>\n",
       "      <th>Sex</th>\n",
       "      <th>Diabetic</th>\n",
       "      <th>...</th>\n",
       "      <th>Race_Asian</th>\n",
       "      <th>Race_Black</th>\n",
       "      <th>Race_Hispanic</th>\n",
       "      <th>Race_Other</th>\n",
       "      <th>Race_White</th>\n",
       "      <th>GenHealth_Excellent</th>\n",
       "      <th>GenHealth_Fair</th>\n",
       "      <th>GenHealth_Good</th>\n",
       "      <th>GenHealth_Poor</th>\n",
       "      <th>GenHealth_Very good</th>\n",
       "    </tr>\n",
       "  </thead>\n",
       "  <tbody>\n",
       "    <tr>\n",
       "      <th>0</th>\n",
       "      <td>0</td>\n",
       "      <td>16.60</td>\n",
       "      <td>1</td>\n",
       "      <td>0</td>\n",
       "      <td>0</td>\n",
       "      <td>3.0</td>\n",
       "      <td>30.0</td>\n",
       "      <td>0</td>\n",
       "      <td>0</td>\n",
       "      <td>1</td>\n",
       "      <td>...</td>\n",
       "      <td>0.0</td>\n",
       "      <td>0.0</td>\n",
       "      <td>0.0</td>\n",
       "      <td>0.0</td>\n",
       "      <td>1.0</td>\n",
       "      <td>0.0</td>\n",
       "      <td>0.0</td>\n",
       "      <td>0.0</td>\n",
       "      <td>0.0</td>\n",
       "      <td>1.0</td>\n",
       "    </tr>\n",
       "    <tr>\n",
       "      <th>1</th>\n",
       "      <td>0</td>\n",
       "      <td>20.34</td>\n",
       "      <td>0</td>\n",
       "      <td>0</td>\n",
       "      <td>1</td>\n",
       "      <td>0.0</td>\n",
       "      <td>0.0</td>\n",
       "      <td>0</td>\n",
       "      <td>0</td>\n",
       "      <td>0</td>\n",
       "      <td>...</td>\n",
       "      <td>0.0</td>\n",
       "      <td>0.0</td>\n",
       "      <td>0.0</td>\n",
       "      <td>0.0</td>\n",
       "      <td>1.0</td>\n",
       "      <td>0.0</td>\n",
       "      <td>0.0</td>\n",
       "      <td>0.0</td>\n",
       "      <td>0.0</td>\n",
       "      <td>1.0</td>\n",
       "    </tr>\n",
       "    <tr>\n",
       "      <th>2</th>\n",
       "      <td>0</td>\n",
       "      <td>26.58</td>\n",
       "      <td>1</td>\n",
       "      <td>0</td>\n",
       "      <td>0</td>\n",
       "      <td>20.0</td>\n",
       "      <td>30.0</td>\n",
       "      <td>0</td>\n",
       "      <td>1</td>\n",
       "      <td>1</td>\n",
       "      <td>...</td>\n",
       "      <td>0.0</td>\n",
       "      <td>0.0</td>\n",
       "      <td>0.0</td>\n",
       "      <td>0.0</td>\n",
       "      <td>1.0</td>\n",
       "      <td>0.0</td>\n",
       "      <td>1.0</td>\n",
       "      <td>0.0</td>\n",
       "      <td>0.0</td>\n",
       "      <td>0.0</td>\n",
       "    </tr>\n",
       "    <tr>\n",
       "      <th>3</th>\n",
       "      <td>0</td>\n",
       "      <td>24.21</td>\n",
       "      <td>0</td>\n",
       "      <td>0</td>\n",
       "      <td>0</td>\n",
       "      <td>0.0</td>\n",
       "      <td>0.0</td>\n",
       "      <td>0</td>\n",
       "      <td>0</td>\n",
       "      <td>0</td>\n",
       "      <td>...</td>\n",
       "      <td>0.0</td>\n",
       "      <td>0.0</td>\n",
       "      <td>0.0</td>\n",
       "      <td>0.0</td>\n",
       "      <td>1.0</td>\n",
       "      <td>0.0</td>\n",
       "      <td>0.0</td>\n",
       "      <td>1.0</td>\n",
       "      <td>0.0</td>\n",
       "      <td>0.0</td>\n",
       "    </tr>\n",
       "    <tr>\n",
       "      <th>4</th>\n",
       "      <td>0</td>\n",
       "      <td>23.71</td>\n",
       "      <td>0</td>\n",
       "      <td>0</td>\n",
       "      <td>0</td>\n",
       "      <td>28.0</td>\n",
       "      <td>0.0</td>\n",
       "      <td>1</td>\n",
       "      <td>0</td>\n",
       "      <td>0</td>\n",
       "      <td>...</td>\n",
       "      <td>0.0</td>\n",
       "      <td>0.0</td>\n",
       "      <td>0.0</td>\n",
       "      <td>0.0</td>\n",
       "      <td>1.0</td>\n",
       "      <td>0.0</td>\n",
       "      <td>0.0</td>\n",
       "      <td>0.0</td>\n",
       "      <td>0.0</td>\n",
       "      <td>1.0</td>\n",
       "    </tr>\n",
       "  </tbody>\n",
       "</table>\n",
       "<p>5 rows × 39 columns</p>\n",
       "</div>"
      ],
      "text/plain": [
       "   HeartDisease    BMI  Smoking  AlcoholDrinking  Stroke  PhysicalHealth  \\\n",
       "0             0  16.60        1                0       0             3.0   \n",
       "1             0  20.34        0                0       1             0.0   \n",
       "2             0  26.58        1                0       0            20.0   \n",
       "3             0  24.21        0                0       0             0.0   \n",
       "4             0  23.71        0                0       0            28.0   \n",
       "\n",
       "   MentalHealth  DiffWalking  Sex  Diabetic  ...  Race_Asian  Race_Black  \\\n",
       "0          30.0            0    0         1  ...         0.0         0.0   \n",
       "1           0.0            0    0         0  ...         0.0         0.0   \n",
       "2          30.0            0    1         1  ...         0.0         0.0   \n",
       "3           0.0            0    0         0  ...         0.0         0.0   \n",
       "4           0.0            1    0         0  ...         0.0         0.0   \n",
       "\n",
       "   Race_Hispanic  Race_Other  Race_White  GenHealth_Excellent  GenHealth_Fair  \\\n",
       "0            0.0         0.0         1.0                  0.0             0.0   \n",
       "1            0.0         0.0         1.0                  0.0             0.0   \n",
       "2            0.0         0.0         1.0                  0.0             1.0   \n",
       "3            0.0         0.0         1.0                  0.0             0.0   \n",
       "4            0.0         0.0         1.0                  0.0             0.0   \n",
       "\n",
       "   GenHealth_Good  GenHealth_Poor  GenHealth_Very good  \n",
       "0             0.0             0.0                  1.0  \n",
       "1             0.0             0.0                  1.0  \n",
       "2             0.0             0.0                  0.0  \n",
       "3             1.0             0.0                  0.0  \n",
       "4             0.0             0.0                  1.0  \n",
       "\n",
       "[5 rows x 39 columns]"
      ]
     },
     "execution_count": 20,
     "metadata": {},
     "output_type": "execute_result"
    }
   ],
   "source": [
    "# Merge one-hot encoded features and drop the originals\n",
    "encoded_df = df.merge(encode_df, left_index=True, right_index=True).drop(df_cat, 1)\n",
    "encoded_df.head()"
   ]
  },
  {
   "cell_type": "markdown",
   "id": "a82a0e49",
   "metadata": {},
   "source": [
    "## ML Model"
   ]
  },
  {
   "cell_type": "code",
   "execution_count": 21,
   "id": "744aa7af",
   "metadata": {},
   "outputs": [],
   "source": [
    "# Remove heart disease outcome target from features data and sleep time since it has very weak correlation with heart disease\n",
    "X = encoded_df.drop(columns=['HeartDisease', 'SleepTime']).values\n",
    "y = encoded_df.HeartDisease.values\n",
    "\n",
    "# Split training/test datasets\n",
    "X_train, X_test, y_train, y_test = train_test_split(X, y, stratify = y)"
   ]
  },
  {
   "cell_type": "code",
   "execution_count": 22,
   "id": "a9d3a500",
   "metadata": {},
   "outputs": [],
   "source": [
    "# Normalizing the data\n",
    "\n",
    "# Create a StandardScaler instance\n",
    "scaler = StandardScaler()\n",
    "\n",
    "# Fit the StandardScaler\n",
    "X_scaler = scaler.fit(X_train)\n",
    "\n",
    "# Scale the data\n",
    "X_train_scaled = X_scaler.transform(X_train)\n",
    "X_test_scaled = X_scaler.transform(X_test)"
   ]
  },
  {
   "cell_type": "code",
   "execution_count": 23,
   "id": "68a46481",
   "metadata": {},
   "outputs": [
    {
     "name": "stdout",
     "output_type": "stream",
     "text": [
      "Model: \"sequential\"\n",
      "_________________________________________________________________\n",
      " Layer (type)                Output Shape              Param #   \n",
      "=================================================================\n",
      " dense (Dense)               (None, 100)               3800      \n",
      "                                                                 \n",
      " dense_1 (Dense)             (None, 40)                4040      \n",
      "                                                                 \n",
      " dense_2 (Dense)             (None, 1)                 41        \n",
      "                                                                 \n",
      "=================================================================\n",
      "Total params: 7,881\n",
      "Trainable params: 7,881\n",
      "Non-trainable params: 0\n",
      "_________________________________________________________________\n"
     ]
    }
   ],
   "source": [
    "# Define the model - deep neural net, i.e., the number of input features and hidden nodes for each layer.\n",
    "number_input_features = len(X_train[0])\n",
    "hidden_nodes_layer1 = 100\n",
    "hidden_nodes_layer2 = 40\n",
    "\n",
    "# Create the Keras Sequential model\n",
    "nn_model = tf.keras.models.Sequential()\n",
    "\n",
    "# First hidden layer\n",
    "nn_model.add(tf.keras.layers.Dense(units = hidden_nodes_layer1, input_dim = number_input_features, activation = \"relu\"))\n",
    "\n",
    "# Second hidden layer\n",
    "nn_model.add(tf.keras.layers.Dense(units = hidden_nodes_layer2, activation = \"relu\"))\n",
    "\n",
    "# Output layer\n",
    "nn_model.add(tf.keras.layers.Dense(units = 1, activation = \"sigmoid\"))\n",
    "\n",
    "# Check the structure of the model\n",
    "nn_model.summary()"
   ]
  },
  {
   "cell_type": "code",
   "execution_count": 24,
   "id": "5462584b",
   "metadata": {},
   "outputs": [],
   "source": [
    "# Compile the model\n",
    "nn_model.compile(loss=\"binary_crossentropy\", optimizer=\"adam\", metrics=[\"accuracy\"])"
   ]
  },
  {
   "cell_type": "code",
   "execution_count": 25,
   "id": "e528ed50",
   "metadata": {},
   "outputs": [
    {
     "name": "stdout",
     "output_type": "stream",
     "text": [
      "Epoch 1/100\n",
      "7496/7496 [==============================] - 14s 2ms/step - loss: 0.2291 - accuracy: 0.9153\n",
      "Epoch 2/100\n",
      "7496/7496 [==============================] - 13s 2ms/step - loss: 0.2259 - accuracy: 0.9161\n",
      "Epoch 3/100\n",
      "7496/7496 [==============================] - 14s 2ms/step - loss: 0.2250 - accuracy: 0.9165\n",
      "Epoch 4/100\n",
      "7496/7496 [==============================] - 13s 2ms/step - loss: 0.2247 - accuracy: 0.9164\n",
      "Epoch 5/100\n",
      "7496/7496 [==============================] - 14s 2ms/step - loss: 0.2242 - accuracy: 0.9166\n",
      "Epoch 6/100\n",
      "7496/7496 [==============================] - 14s 2ms/step - loss: 0.2239 - accuracy: 0.9168\n",
      "Epoch 7/100\n",
      "7496/7496 [==============================] - 14s 2ms/step - loss: 0.2236 - accuracy: 0.9168\n",
      "Epoch 8/100\n",
      "7496/7496 [==============================] - 15s 2ms/step - loss: 0.2233 - accuracy: 0.9171\n",
      "Epoch 9/100\n",
      "7496/7496 [==============================] - 15s 2ms/step - loss: 0.2228 - accuracy: 0.9173\n",
      "Epoch 10/100\n",
      "7496/7496 [==============================] - 13s 2ms/step - loss: 0.2225 - accuracy: 0.9171\n",
      "Epoch 11/100\n",
      "7496/7496 [==============================] - 16s 2ms/step - loss: 0.2223 - accuracy: 0.9174\n",
      "Epoch 12/100\n",
      "7496/7496 [==============================] - 14s 2ms/step - loss: 0.2220 - accuracy: 0.9175\n",
      "Epoch 13/100\n",
      "7496/7496 [==============================] - 12s 2ms/step - loss: 0.2216 - accuracy: 0.9177\n",
      "Epoch 14/100\n",
      "7496/7496 [==============================] - 14s 2ms/step - loss: 0.2214 - accuracy: 0.9179\n",
      "Epoch 15/100\n",
      "7496/7496 [==============================] - 13s 2ms/step - loss: 0.2209 - accuracy: 0.9178\n",
      "Epoch 16/100\n",
      "7496/7496 [==============================] - 12s 2ms/step - loss: 0.2204 - accuracy: 0.9179\n",
      "Epoch 17/100\n",
      "7496/7496 [==============================] - 12s 2ms/step - loss: 0.2201 - accuracy: 0.9184\n",
      "Epoch 18/100\n",
      "7496/7496 [==============================] - 13s 2ms/step - loss: 0.2198 - accuracy: 0.9183\n",
      "Epoch 19/100\n",
      "7496/7496 [==============================] - 13s 2ms/step - loss: 0.2193 - accuracy: 0.9186\n",
      "Epoch 20/100\n",
      "7496/7496 [==============================] - 13s 2ms/step - loss: 0.2188 - accuracy: 0.9187\n",
      "Epoch 21/100\n",
      "7496/7496 [==============================] - 13s 2ms/step - loss: 0.2184 - accuracy: 0.9191\n",
      "Epoch 22/100\n",
      "7496/7496 [==============================] - 13s 2ms/step - loss: 0.2180 - accuracy: 0.9194\n",
      "Epoch 23/100\n",
      "7496/7496 [==============================] - 13s 2ms/step - loss: 0.2178 - accuracy: 0.9194\n",
      "Epoch 24/100\n",
      "7496/7496 [==============================] - 13s 2ms/step - loss: 0.2174 - accuracy: 0.9196\n",
      "Epoch 25/100\n",
      "7496/7496 [==============================] - 13s 2ms/step - loss: 0.2167 - accuracy: 0.9196\n",
      "Epoch 26/100\n",
      "7496/7496 [==============================] - 14s 2ms/step - loss: 0.2165 - accuracy: 0.9198\n",
      "Epoch 27/100\n",
      "7496/7496 [==============================] - 14s 2ms/step - loss: 0.2160 - accuracy: 0.9201\n",
      "Epoch 28/100\n",
      "7496/7496 [==============================] - 14s 2ms/step - loss: 0.2158 - accuracy: 0.9201\n",
      "Epoch 29/100\n",
      "7496/7496 [==============================] - 14s 2ms/step - loss: 0.2155 - accuracy: 0.9203\n",
      "Epoch 30/100\n",
      "7496/7496 [==============================] - 14s 2ms/step - loss: 0.2153 - accuracy: 0.9201\n",
      "Epoch 31/100\n",
      "7496/7496 [==============================] - 14s 2ms/step - loss: 0.2149 - accuracy: 0.9204\n",
      "Epoch 32/100\n",
      "7496/7496 [==============================] - 14s 2ms/step - loss: 0.2145 - accuracy: 0.9205\n",
      "Epoch 33/100\n",
      "7496/7496 [==============================] - 14s 2ms/step - loss: 0.2145 - accuracy: 0.9205\n",
      "Epoch 34/100\n",
      "7496/7496 [==============================] - 14s 2ms/step - loss: 0.2141 - accuracy: 0.9209\n",
      "Epoch 35/100\n",
      "7496/7496 [==============================] - 14s 2ms/step - loss: 0.2138 - accuracy: 0.9208\n",
      "Epoch 36/100\n",
      "7496/7496 [==============================] - 14s 2ms/step - loss: 0.2134 - accuracy: 0.9210\n",
      "Epoch 37/100\n",
      "7496/7496 [==============================] - 15s 2ms/step - loss: 0.2131 - accuracy: 0.9212\n",
      "Epoch 38/100\n",
      "7496/7496 [==============================] - 15s 2ms/step - loss: 0.2128 - accuracy: 0.9213\n",
      "Epoch 39/100\n",
      "7496/7496 [==============================] - 14s 2ms/step - loss: 0.2126 - accuracy: 0.9214\n",
      "Epoch 40/100\n",
      "7496/7496 [==============================] - 14s 2ms/step - loss: 0.2124 - accuracy: 0.9213\n",
      "Epoch 41/100\n",
      "7496/7496 [==============================] - 14s 2ms/step - loss: 0.2121 - accuracy: 0.9215\n",
      "Epoch 42/100\n",
      "7496/7496 [==============================] - 14s 2ms/step - loss: 0.2118 - accuracy: 0.9217\n",
      "Epoch 43/100\n",
      "7496/7496 [==============================] - 14s 2ms/step - loss: 0.2115 - accuracy: 0.9218\n",
      "Epoch 44/100\n",
      "7496/7496 [==============================] - 14s 2ms/step - loss: 0.2112 - accuracy: 0.9217\n",
      "Epoch 45/100\n",
      "7496/7496 [==============================] - 14s 2ms/step - loss: 0.2113 - accuracy: 0.9220\n",
      "Epoch 46/100\n",
      "7496/7496 [==============================] - 14s 2ms/step - loss: 0.2108 - accuracy: 0.9223\n",
      "Epoch 47/100\n",
      "7496/7496 [==============================] - 14s 2ms/step - loss: 0.2107 - accuracy: 0.9223\n",
      "Epoch 48/100\n",
      "7496/7496 [==============================] - 14s 2ms/step - loss: 0.2105 - accuracy: 0.9223\n",
      "Epoch 49/100\n",
      "7496/7496 [==============================] - 14s 2ms/step - loss: 0.2101 - accuracy: 0.9225\n",
      "Epoch 50/100\n",
      "7496/7496 [==============================] - 14s 2ms/step - loss: 0.2100 - accuracy: 0.9224\n",
      "Epoch 51/100\n",
      "7496/7496 [==============================] - 14s 2ms/step - loss: 0.2098 - accuracy: 0.9227\n",
      "Epoch 52/100\n",
      "7496/7496 [==============================] - 14s 2ms/step - loss: 0.2095 - accuracy: 0.9229\n",
      "Epoch 53/100\n",
      "7496/7496 [==============================] - 13s 2ms/step - loss: 0.2093 - accuracy: 0.9228\n",
      "Epoch 54/100\n",
      "7496/7496 [==============================] - 13s 2ms/step - loss: 0.2090 - accuracy: 0.9230\n",
      "Epoch 55/100\n",
      "7496/7496 [==============================] - 13s 2ms/step - loss: 0.2091 - accuracy: 0.9228\n",
      "Epoch 56/100\n",
      "7496/7496 [==============================] - 13s 2ms/step - loss: 0.2087 - accuracy: 0.9232\n",
      "Epoch 57/100\n",
      "7496/7496 [==============================] - 13s 2ms/step - loss: 0.2088 - accuracy: 0.9232\n",
      "Epoch 58/100\n",
      "7496/7496 [==============================] - 13s 2ms/step - loss: 0.2085 - accuracy: 0.9232\n",
      "Epoch 59/100\n",
      "7496/7496 [==============================] - 13s 2ms/step - loss: 0.2082 - accuracy: 0.9234\n",
      "Epoch 60/100\n",
      "7496/7496 [==============================] - 13s 2ms/step - loss: 0.2079 - accuracy: 0.9236\n",
      "Epoch 61/100\n",
      "7496/7496 [==============================] - 13s 2ms/step - loss: 0.2082 - accuracy: 0.9231\n",
      "Epoch 62/100\n",
      "7496/7496 [==============================] - 13s 2ms/step - loss: 0.2080 - accuracy: 0.9236\n",
      "Epoch 63/100\n",
      "7496/7496 [==============================] - 13s 2ms/step - loss: 0.2078 - accuracy: 0.9238\n",
      "Epoch 64/100\n",
      "7496/7496 [==============================] - 13s 2ms/step - loss: 0.2079 - accuracy: 0.9234\n",
      "Epoch 65/100\n",
      "7496/7496 [==============================] - 13s 2ms/step - loss: 0.2077 - accuracy: 0.9236\n",
      "Epoch 66/100\n",
      "7496/7496 [==============================] - 13s 2ms/step - loss: 0.2075 - accuracy: 0.9239\n",
      "Epoch 67/100\n",
      "7496/7496 [==============================] - 13s 2ms/step - loss: 0.2072 - accuracy: 0.9238\n",
      "Epoch 68/100\n",
      "7496/7496 [==============================] - 13s 2ms/step - loss: 0.2072 - accuracy: 0.9240\n",
      "Epoch 69/100\n",
      "7496/7496 [==============================] - 13s 2ms/step - loss: 0.2071 - accuracy: 0.9236\n",
      "Epoch 70/100\n",
      "7496/7496 [==============================] - 13s 2ms/step - loss: 0.2069 - accuracy: 0.9239\n",
      "Epoch 71/100\n",
      "7496/7496 [==============================] - 13s 2ms/step - loss: 0.2069 - accuracy: 0.9241\n",
      "Epoch 72/100\n",
      "7496/7496 [==============================] - 13s 2ms/step - loss: 0.2068 - accuracy: 0.9241\n",
      "Epoch 73/100\n",
      "7496/7496 [==============================] - 13s 2ms/step - loss: 0.2066 - accuracy: 0.9239\n",
      "Epoch 74/100\n",
      "7496/7496 [==============================] - 13s 2ms/step - loss: 0.2065 - accuracy: 0.9240\n",
      "Epoch 75/100\n",
      "7496/7496 [==============================] - 14s 2ms/step - loss: 0.2066 - accuracy: 0.9242\n",
      "Epoch 76/100\n",
      "7496/7496 [==============================] - 13s 2ms/step - loss: 0.2065 - accuracy: 0.9239\n",
      "Epoch 77/100\n",
      "7496/7496 [==============================] - 13s 2ms/step - loss: 0.2063 - accuracy: 0.9242\n",
      "Epoch 78/100\n",
      "7496/7496 [==============================] - 13s 2ms/step - loss: 0.2062 - accuracy: 0.9241\n",
      "Epoch 79/100\n"
     ]
    },
    {
     "name": "stdout",
     "output_type": "stream",
     "text": [
      "7496/7496 [==============================] - 12s 2ms/step - loss: 0.2062 - accuracy: 0.9240\n",
      "Epoch 80/100\n",
      "7496/7496 [==============================] - 12s 2ms/step - loss: 0.2063 - accuracy: 0.9242\n",
      "Epoch 81/100\n",
      "7496/7496 [==============================] - 12s 2ms/step - loss: 0.2059 - accuracy: 0.9242\n",
      "Epoch 82/100\n",
      "7496/7496 [==============================] - 12s 2ms/step - loss: 0.2057 - accuracy: 0.9241\n",
      "Epoch 83/100\n",
      "7496/7496 [==============================] - 12s 2ms/step - loss: 0.2058 - accuracy: 0.9242\n",
      "Epoch 84/100\n",
      "7496/7496 [==============================] - 12s 2ms/step - loss: 0.2058 - accuracy: 0.9244\n",
      "Epoch 85/100\n",
      "7496/7496 [==============================] - 12s 2ms/step - loss: 0.2056 - accuracy: 0.9243\n",
      "Epoch 86/100\n",
      "7496/7496 [==============================] - 12s 2ms/step - loss: 0.2054 - accuracy: 0.9246\n",
      "Epoch 87/100\n",
      "7496/7496 [==============================] - 12s 2ms/step - loss: 0.2055 - accuracy: 0.9245\n",
      "Epoch 88/100\n",
      "7496/7496 [==============================] - 12s 2ms/step - loss: 0.2054 - accuracy: 0.9243\n",
      "Epoch 89/100\n",
      "7496/7496 [==============================] - 12s 2ms/step - loss: 0.2054 - accuracy: 0.9245\n",
      "Epoch 90/100\n",
      "7496/7496 [==============================] - 12s 2ms/step - loss: 0.2052 - accuracy: 0.9246\n",
      "Epoch 91/100\n",
      "7496/7496 [==============================] - 12s 2ms/step - loss: 0.2051 - accuracy: 0.9246\n",
      "Epoch 92/100\n",
      "7496/7496 [==============================] - 12s 2ms/step - loss: 0.2049 - accuracy: 0.9246\n",
      "Epoch 93/100\n",
      "7496/7496 [==============================] - 12s 2ms/step - loss: 0.2049 - accuracy: 0.9246\n",
      "Epoch 94/100\n",
      "7496/7496 [==============================] - 12s 2ms/step - loss: 0.2049 - accuracy: 0.9246\n",
      "Epoch 95/100\n",
      "7496/7496 [==============================] - 12s 2ms/step - loss: 0.2047 - accuracy: 0.9247\n",
      "Epoch 96/100\n",
      "7496/7496 [==============================] - 12s 2ms/step - loss: 0.2048 - accuracy: 0.9250\n",
      "Epoch 97/100\n",
      "7496/7496 [==============================] - 12s 2ms/step - loss: 0.2047 - accuracy: 0.9248\n",
      "Epoch 98/100\n",
      "7496/7496 [==============================] - 12s 2ms/step - loss: 0.2046 - accuracy: 0.9250\n",
      "Epoch 99/100\n",
      "7496/7496 [==============================] - 13s 2ms/step - loss: 0.2045 - accuracy: 0.9249\n",
      "Epoch 100/100\n",
      "7496/7496 [==============================] - 12s 2ms/step - loss: 0.2043 - accuracy: 0.9250\n"
     ]
    }
   ],
   "source": [
    "# Train the model\n",
    "fit_model = nn_model.fit(X_train_scaled, y_train, epochs = 100)"
   ]
  },
  {
   "cell_type": "code",
   "execution_count": 26,
   "id": "d12137e0",
   "metadata": {},
   "outputs": [
    {
     "name": "stdout",
     "output_type": "stream",
     "text": [
      "2499/2499 - 3s - loss: 0.2573 - accuracy: 0.9117 - 3s/epoch - 1ms/step\n",
      "Loss: 0.25734949111938477, Accuracy: 0.9117437601089478\n"
     ]
    }
   ],
   "source": [
    "# Evaluate the model using the test data\n",
    "model_loss, model_accuracy = nn_model.evaluate(X_test_scaled, y_test, verbose = 2)\n",
    "print(f\"Loss: {model_loss}, Accuracy: {model_accuracy}\")"
   ]
  }
 ],
 "metadata": {
  "kernelspec": {
   "display_name": "mlenv",
   "language": "python",
   "name": "mlenv"
  },
  "language_info": {
   "codemirror_mode": {
    "name": "ipython",
    "version": 3
   },
   "file_extension": ".py",
   "mimetype": "text/x-python",
   "name": "python",
   "nbconvert_exporter": "python",
   "pygments_lexer": "ipython3",
   "version": "3.7.13"
  }
 },
 "nbformat": 4,
 "nbformat_minor": 5
}
